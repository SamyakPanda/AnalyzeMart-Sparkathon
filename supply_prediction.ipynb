{
 "cells": [
  {
   "cell_type": "code",
   "execution_count": 1,
   "metadata": {},
   "outputs": [],
   "source": [
    "import pandas as pd\n",
    "import numpy as np\n",
    "from sklearn.preprocessing import StandardScaler, OneHotEncoder\n",
    "from sklearn.compose import ColumnTransformer\n",
    "from sklearn.pipeline import Pipeline\n",
    "\n",
    "# Load the data\n",
    "df = pd.read_csv('product_factors.csv')\n",
    "\n",
    "# Define numerical and categorical columns\n",
    "numerical_cols = [\"Price of the Commodity\", \"Price of Inputs or Factors\", \"Prices of other Commodities\", \"Number of Firms\"]\n",
    "categorical_cols = [\"Firm Goals\", \"Technology\", \"Government Policy\", \"Expectations\", \"Natural Factors\"]\n",
    "\n",
    "# Preprocessing for numerical data\n",
    "numerical_transformer = StandardScaler()\n",
    "\n",
    "# Preprocessing for categorical data\n",
    "categorical_transformer = OneHotEncoder()\n",
    "\n",
    "# Bundle preprocessing for numerical and categorical data\n",
    "preprocessor = ColumnTransformer(\n",
    "    transformers=[\n",
    "        ('num', numerical_transformer, numerical_cols),\n",
    "        ('cat', categorical_transformer, categorical_cols)])\n",
    "\n",
    "# Preprocessing pipeline\n",
    "preprocessing_pipeline = Pipeline(steps=[('preprocessor', preprocessor)])\n",
    "\n",
    "# Apply preprocessing\n",
    "df_preprocessed = preprocessing_pipeline.fit_transform(df)\n",
    "\n"
   ]
  },
  {
   "cell_type": "code",
   "execution_count": 2,
   "metadata": {},
   "outputs": [],
   "source": [
    "from sklearn.cluster import KMeans\n",
    "\n",
    "# Apply K-Means clustering\n",
    "kmeans = KMeans(n_clusters=3, random_state=42)\n",
    "df['Cluster'] = kmeans.fit_predict(df_preprocessed)\n",
    "\n"
   ]
  },
  {
   "cell_type": "code",
   "execution_count": 3,
   "metadata": {},
   "outputs": [
    {
     "name": "stdout",
     "output_type": "stream",
     "text": [
      "CSV file 'product_supply_demand.csv' created successfully with supply-demand labels.\n"
     ]
    }
   ],
   "source": [
    "# Determine cluster centroids\n",
    "centroids = kmeans.cluster_centers_\n",
    "\n",
    "# Find the average value for each centroid to label clusters\n",
    "average_values = np.mean(centroids, axis=1)\n",
    "\n",
    "# Assign labels based on average values\n",
    "cluster_labels = [''] * 3\n",
    "cluster_labels[np.argmax(average_values)] = 'High'\n",
    "cluster_labels[np.argmin(average_values)] = 'Low'\n",
    "cluster_labels[1] = 'Stable'\n",
    "\n",
    "# Map cluster labels to the DataFrame\n",
    "df['Supply_Demand'] = df['Cluster'].map({0: cluster_labels[0], 1: cluster_labels[1], 2: cluster_labels[2]})\n",
    "\n",
    "# Drop the Cluster column\n",
    "df.drop(columns=['Cluster'], inplace=True)\n",
    "\n",
    "# Save the labeled data to a new CSV\n",
    "df.to_csv('product_supply_demand.csv', index=False)\n",
    "\n",
    "print(\"CSV file 'product_supply_demand.csv' created successfully with supply-demand labels.\")\n"
   ]
  }
 ],
 "metadata": {
  "kernelspec": {
   "display_name": "Python 3",
   "language": "python",
   "name": "python3"
  },
  "language_info": {
   "codemirror_mode": {
    "name": "ipython",
    "version": 3
   },
   "file_extension": ".py",
   "mimetype": "text/x-python",
   "name": "python",
   "nbconvert_exporter": "python",
   "pygments_lexer": "ipython3",
   "version": "3.10.12"
  }
 },
 "nbformat": 4,
 "nbformat_minor": 2
}
